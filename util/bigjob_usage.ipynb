{
 "metadata": {
  "name": "bigjob_usage"
 },
 "nbformat": 3,
 "nbformat_minor": 0,
 "worksheets": [
  {
   "cells": [
    {
     "cell_type": "markdown",
     "metadata": {},
     "source": [
      "# Generating BigJob Usage Statistics out of Redis entries\n",
      "Read `cus` and `pilots` from Redis"
     ]
    },
    {
     "cell_type": "code",
     "collapsed": false,
     "input": [
      "# Redis Service to connect to:\n",
      "# redis://ILikeBigJob_wITH-REdIS@gw68.quarry.iu.teragrid.org:6379\n",
      "# redis://localhost\n",
      "import pandas as pd\n",
      "import matplotlib.pyplot as plt\n",
      "import os, sys\n",
      "import archive\n",
      "import datetime"
     ],
     "language": "python",
     "metadata": {},
     "outputs": []
    },
    {
     "cell_type": "code",
     "collapsed": false,
     "input": [
      "# Attempt to restore old data frame\n",
      "cus_df = None\n",
      "pilot_df = None\n",
      "if os.path.exists(\"cus.df\") and os.path.exists(\"pilot.df\"):\n",
      "    cus_df = pd.load(\"cus.df\")\n",
      "    pilot_df = pd.load(\"pilot.df\")\n",
      "\n",
      "    max_cus_date = cus_df.index.max()\n",
      "    max_pilots_date = pilot_df.index.max()\n",
      "    print \"Restored data frames until %s\"%max_cus_date"
     ],
     "language": "python",
     "metadata": {},
     "outputs": []
    },
    {
     "cell_type": "code",
     "collapsed": false,
     "input": [
      "#%run archive.py \"redis://ILikeBigJob_wITH-REdIS@gw68.quarry.iu.teragrid.org:6379\"\n",
      "#%run archive.py \"redis://localhost:6379\"\n",
      "rd = archive.RedisDownloader(\"redis://localhost:6379\")\n",
      "pilots = rd.get_pilots()\n",
      "cus = rd.get_cus()"
     ],
     "language": "python",
     "metadata": {},
     "outputs": []
    },
    {
     "cell_type": "markdown",
     "metadata": {},
     "source": [
      "## Compute Units Executed per Day"
     ]
    },
    {
     "cell_type": "code",
     "collapsed": false,
     "input": [
      "# make sure only new entries are loaded into data frame\n",
      "max_cus_date = None\n",
      "try:\n",
      "    max_cus_date = cus_df.index.max()\n",
      "except:\n",
      "    pass\n",
      "timestamp_index = []\n",
      "cus_new = []\n",
      "for i in cus:\n",
      "    if max_cus_date == None or datetime.datetime.utcfromtimestamp(float(i[\"start_time\"]))>max_cus_date:\n",
      "        # print \"add \" + str(datetime.datetime.utcfromtimestamp(float(i[\"start_time\"])))\n",
      "        timestamp_index.append(datetime.datetime.utcfromtimestamp(float(i[\"start_time\"])))\n",
      "        cus_new.append(i)\n",
      "\n",
      "#print cus_new    \n",
      "if len(cus_new) > 0:\n",
      "    cus_df_new = pd.DataFrame(cus_new, index=timestamp_index, columns=['Executable', 'NumberOfProcesses', \"SPMDVariation\"])\n",
      "    try:\n",
      "        cus_df = pd.concat([cus_df, cus_df_new])\n",
      "    except:\n",
      "        cus_df = cus_df_new\n",
      "cus_df_h = cus_df[\"Executable\"].resample(\"D\", how=\"count\")\n",
      "cus_df_h.plot(kind=\"bar\",  color='k', alpha=0.7)\n",
      "plt.ylabel(\"Number of CUs Executed\")\n",
      "plt.xlabel(\"Day\")\n",
      "plt.savefig(\"number_cus_per_day.pdf\", format=\"pdf\", bbox_inches='tight', pad_inches=0.1)"
     ],
     "language": "python",
     "metadata": {},
     "outputs": []
    },
    {
     "cell_type": "markdown",
     "metadata": {},
     "source": [
      "## Compute Unit Types\n",
      "\n",
      "How many sequential versus parallel (MPI) CUs are executed"
     ]
    },
    {
     "cell_type": "code",
     "collapsed": false,
     "input": [
      "spmd = cus_df[\"SPMDVariation\"].astype(\"object\")\n",
      "#spmd.dtype = \"object\"\n",
      "spmd[spmd.isnull()]=\"Single\"\n",
      "spmd.value_counts().plot(kind=\"bar\",  color='k', alpha=0.7)\n",
      "plt.ylabel(\"Number of CUs\")\n",
      "plt.ylabel(\"CU SPMD Variation\")\n",
      "plt.savefig(\"cu_type.pdf\", format=\"pdf\", bbox_inches='tight', pad_inches=0.1)"
     ],
     "language": "python",
     "metadata": {},
     "outputs": []
    },
    {
     "cell_type": "markdown",
     "metadata": {},
     "source": [
      "## Pilots Executed per Day"
     ]
    },
    {
     "cell_type": "code",
     "collapsed": false,
     "input": [
      "pilots = [i for i in pilots if i.has_key(\"start_time\")]\n",
      "timestamp_index = [datetime.datetime.utcfromtimestamp(float(i[\"start_time\"])) for i in pilots]\n",
      "#pilot_df = pd.DataFrame.from_dict(pilots)\n",
      "pilot_df = pd.DataFrame(pilots, index=timestamp_index, columns=['description'])\n",
      "pilot_df_h = pilot_df['description'].resample(\"D\", how=\"count\")\n",
      "pilot_df_h.plot(kind=\"bar\",  color='k', alpha=0.7)\n",
      "plt.ylabel(\"Number of Pilots\")\n",
      "plt.xlabel(\"Day\")\n",
      "plt.savefig(\"number_pilots.pdf\", format=\"pdf\", bbox_inches='tight', pad_inches=0.1)"
     ],
     "language": "python",
     "metadata": {},
     "outputs": []
    },
    {
     "cell_type": "markdown",
     "metadata": {},
     "source": [
      "## Store Dataframes for later usage"
     ]
    },
    {
     "cell_type": "code",
     "collapsed": false,
     "input": [
      "cus_df.save(\"cus.df\")\n",
      "pilot_df.save(\"pilot.df\")"
     ],
     "language": "python",
     "metadata": {},
     "outputs": []
    }
   ],
   "metadata": {}
  }
 ]
}