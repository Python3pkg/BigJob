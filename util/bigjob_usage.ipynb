{
 "metadata": {
  "name": "bigjob_usage"
 },
 "nbformat": 3,
 "nbformat_minor": 0,
 "worksheets": [
  {
   "cells": [
    {
     "cell_type": "markdown",
     "metadata": {},
     "source": [
      "# Generating BigJob Usage Statistics out of Redis entries\n",
      "Read `cus` and `pilots` from Redis"
     ]
    },
    {
     "cell_type": "code",
     "collapsed": false,
     "input": [
      "# Attempt to restore old data frame\n",
      "if os.path.exists(\"cus.df\") and os.path.exists(\"pilot.df\"):\n",
      "    cus_df = pd.load(\"cus.df\")\n",
      "    pilot_df = pd.load(\"pilot.df\")\n",
      "\n",
      "    max_cus_date = cus_df.index.max()\n",
      "    max_pilots_date = pilot_df.index.max()\n",
      "    print \"Restored data frames until %s\"%max_cus_date"
     ],
     "language": "python",
     "metadata": {},
     "outputs": [
      {
       "output_type": "stream",
       "stream": "stdout",
       "text": [
        "load dataframes\n",
        "Restored data frames until 2013-03-31 10:16:30.620000"
       ]
      },
      {
       "output_type": "stream",
       "stream": "stdout",
       "text": [
        "\n"
       ]
      }
     ],
     "prompt_number": 84
    },
    {
     "cell_type": "code",
     "collapsed": false,
     "input": [
      "# Redis Service to connect to:\n",
      "# redis://ILikeBigJob_wITH-REdIS@gw68.quarry.iu.teragrid.org:6379\n",
      "# redis://localhost\n",
      "import pandas as pd\n",
      "import matplotlib.pyplot as plt\n",
      "\n",
      "\n",
      "%run archive.py \"redis://ILikeBigJob_wITH-REdIS@gw68.quarry.iu.teragrid.org:6379\""
     ],
     "language": "python",
     "metadata": {},
     "outputs": [
      {
       "output_type": "stream",
       "stream": "stdout",
       "text": [
        "Get data from redis://ILikeBigJob_wITH-REdIS@gw68.quarry.iu.teragrid.org:6379\n",
        "Loaded Redis data: 304 pilots, 80167 cus"
       ]
      },
      {
       "output_type": "stream",
       "stream": "stdout",
       "text": [
        "\n"
       ]
      }
     ],
     "prompt_number": 85
    },
    {
     "cell_type": "markdown",
     "metadata": {},
     "source": [
      "## Compute Units Executed per Day"
     ]
    },
    {
     "cell_type": "code",
     "collapsed": false,
     "input": [
      "timestamp_index = []\n",
      "cus_new = []\n",
      "for i in cus:\n",
      "    if datetime.datetime.utcfromtimestamp(float(i[\"start_time\"]))>max_cus_date:\n",
      "        timestamp_index.append((datetime.datetime.utcfromtimestamp(float(i[\"start_time\"]))\n",
      "        cus_new.append(i)\n",
      "cus_df_new = pd.DataFrame(cus_new, index=timestamp_index, columns=['Executable', 'NumberOfProcesses', \"SPMDVariation\"])"
     ],
     "language": "python",
     "metadata": {},
     "outputs": [
      {
       "ename": "ValueError",
       "evalue": "too many values to unpack",
       "output_type": "pyerr",
       "traceback": [
        "\u001b[0;31m---------------------------------------------------------------------------\u001b[0m\n\u001b[0;31mValueError\u001b[0m                                Traceback (most recent call last)",
        "\u001b[0;32m<ipython-input-89-f78924a510c1>\u001b[0m in \u001b[0;36m<module>\u001b[0;34m()\u001b[0m\n\u001b[0;32m----> 1\u001b[0;31m \u001b[0mtimestamp_index\u001b[0m\u001b[0;34m,\u001b[0m \u001b[0mcus\u001b[0m \u001b[0;34m=\u001b[0m \u001b[0;34m[\u001b[0m\u001b[0;34m(\u001b[0m\u001b[0mdatetime\u001b[0m\u001b[0;34m.\u001b[0m\u001b[0mdatetime\u001b[0m\u001b[0;34m.\u001b[0m\u001b[0mutcfromtimestamp\u001b[0m\u001b[0;34m(\u001b[0m\u001b[0mfloat\u001b[0m\u001b[0;34m(\u001b[0m\u001b[0mi\u001b[0m\u001b[0;34m[\u001b[0m\u001b[0;34m\"start_time\"\u001b[0m\u001b[0;34m]\u001b[0m\u001b[0;34m)\u001b[0m\u001b[0;34m)\u001b[0m\u001b[0;34m,\u001b[0m \u001b[0mi\u001b[0m\u001b[0;34m)\u001b[0m \u001b[0;32mfor\u001b[0m \u001b[0mi\u001b[0m \u001b[0;32min\u001b[0m \u001b[0mcus\u001b[0m \u001b[0;32mif\u001b[0m \u001b[0mdatetime\u001b[0m\u001b[0;34m.\u001b[0m\u001b[0mdatetime\u001b[0m\u001b[0;34m.\u001b[0m\u001b[0mutcfromtimestamp\u001b[0m\u001b[0;34m(\u001b[0m\u001b[0mfloat\u001b[0m\u001b[0;34m(\u001b[0m\u001b[0mi\u001b[0m\u001b[0;34m[\u001b[0m\u001b[0;34m\"start_time\"\u001b[0m\u001b[0;34m]\u001b[0m\u001b[0;34m)\u001b[0m\u001b[0;34m)\u001b[0m\u001b[0;34m>\u001b[0m\u001b[0mmax_cus_date\u001b[0m\u001b[0;34m]\u001b[0m\u001b[0;34m\u001b[0m\u001b[0m\n\u001b[0m\u001b[1;32m      2\u001b[0m \u001b[0mcus_df_new\u001b[0m \u001b[0;34m=\u001b[0m \u001b[0mpd\u001b[0m\u001b[0;34m.\u001b[0m\u001b[0mDataFrame\u001b[0m\u001b[0;34m(\u001b[0m\u001b[0mcus\u001b[0m\u001b[0;34m,\u001b[0m \u001b[0mindex\u001b[0m\u001b[0;34m=\u001b[0m\u001b[0mtimestamp_index\u001b[0m\u001b[0;34m,\u001b[0m \u001b[0mcolumns\u001b[0m\u001b[0;34m=\u001b[0m\u001b[0;34m[\u001b[0m\u001b[0;34m'Executable'\u001b[0m\u001b[0;34m,\u001b[0m \u001b[0;34m'NumberOfProcesses'\u001b[0m\u001b[0;34m,\u001b[0m \u001b[0;34m\"SPMDVariation\"\u001b[0m\u001b[0;34m]\u001b[0m\u001b[0;34m)\u001b[0m\u001b[0;34m\u001b[0m\u001b[0m\n",
        "\u001b[0;31mValueError\u001b[0m: too many values to unpack"
       ]
      }
     ],
     "prompt_number": 89
    },
    {
     "cell_type": "code",
     "collapsed": false,
     "input": [
      "cus_df_h = cus_df[\"Executable\"].resample(\"D\", how=\"count\")\n",
      "cus_df_h.plot()"
     ],
     "language": "python",
     "metadata": {},
     "outputs": []
    },
    {
     "cell_type": "markdown",
     "metadata": {},
     "source": [
      "## Compute Unit Types"
     ]
    },
    {
     "cell_type": "code",
     "collapsed": false,
     "input": [
      "cus_df[\"SPMDVariation\"].value_counts().plot(kind=\"barh\")"
     ],
     "language": "python",
     "metadata": {},
     "outputs": [
      {
       "output_type": "pyout",
       "prompt_number": 32,
       "text": [
        "<matplotlib.axes.AxesSubplot at 0x111237cd0>"
       ]
      },
      {
       "output_type": "display_data",
       "png": "[encoded data removed]"
      }
     ],
     "prompt_number": 32
    },
    {
     "cell_type": "markdown",
     "metadata": {},
     "source": [
      "## Pilots Executed per Day"
     ]
    },
    {
     "cell_type": "code",
     "collapsed": false,
     "input": [
      "pilots = [i for i in pilots if i.has_key(\"start_time\")]\n",
      "timestamp_index = [datetime.datetime.utcfromtimestamp(float(i[\"start_time\"])) for i in pilots]\n",
      "#pilot_df = pd.DataFrame.from_dict(pilots)\n",
      "pilot_df = pd.DataFrame(pilots, index=timestamp_index, columns=['description'])\n",
      "pilot_df_h = pilot_df['description'].resample(\"H\", how=\"count\")\n",
      "pilot_df_h.plot(kind=\"bar\")"
     ],
     "language": "python",
     "metadata": {},
     "outputs": [
      {
       "output_type": "pyout",
       "prompt_number": 53,
       "text": [
        "<matplotlib.axes.AxesSubplot at 0x10ed6ac10>"
       ]
      },
      {
       "output_type": "display_data",
       "png": "[encoded data removed]"
      }
     ],
     "prompt_number": 53
    },
    {
     "cell_type": "markdown",
     "metadata": {},
     "source": [
      "## Store Dataframes for later usage"
     ]
    },
    {
     "cell_type": "code",
     "collapsed": false,
     "input": [
      "cus_df.save(\"cus.df\")\n",
      "pilot_df.save(\"pilot.df\")"
     ],
     "language": "python",
     "metadata": {},
     "outputs": [],
     "prompt_number": 65
    }
   ],
   "metadata": {}
  }
 ]
}